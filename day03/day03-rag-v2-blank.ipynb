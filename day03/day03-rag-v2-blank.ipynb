{
 "cells": [
  {
   "cell_type": "markdown",
   "metadata": {},
   "source": [
    "# Load epub book"
   ]
  },
  {
   "cell_type": "code",
   "execution_count": 1,
   "metadata": {},
   "outputs": [],
   "source": [
    "# Import libraries\n",
    "import os\n",
    "from langchain_community.document_loaders import UnstructuredEPubLoader\n",
    "from langchain_text_splitters import RecursiveCharacterTextSplitter\n",
    "\n",
    "import chromadb\n",
    "from uuid import uuid4\n",
    "from chromadb.utils import embedding_functions\n",
    "\n",
    "from transformers import AutoTokenizer, AutoModelForSeq2SeqLM"
   ]
  },
  {
   "cell_type": "code",
   "execution_count": 2,
   "metadata": {},
   "outputs": [],
   "source": [
    "# TODO: Load document \n",
    "chunk_size = 300\n",
    "chunk_overlap = 30\n",
    "text_splitter = RecursiveCharacterTextSplitter(chunk_size=chunk_size, chunk_overlap=chunk_overlap)\n"
   ]
  },
  {
   "cell_type": "code",
   "execution_count": 3,
   "metadata": {},
   "outputs": [],
   "source": [
    "# TODOL Load document \n",
    "loader = UnstructuredEPubLoader('docs/charles-dickens_a-christmas-carol.epub')\n"
   ]
  },
  {
   "cell_type": "code",
   "execution_count": 4,
   "metadata": {},
   "outputs": [
    {
     "name": "stderr",
     "output_type": "stream",
     "text": [
      "[WARNING] Could not load translations for en-US\n",
      "  data file translations/en.yaml not found\n",
      "[WARNING] The term Abstract has no translation defined.\n",
      "\n"
     ]
    }
   ],
   "source": [
    "# TODO Split document\n",
    "chunks = loader.load_and_split(text_splitter)"
   ]
  },
  {
   "cell_type": "code",
   "execution_count": 6,
   "metadata": {},
   "outputs": [
    {
     "name": "stdout",
     "output_type": "stream",
     "text": [
      "744\n",
      "page_content='You may talk vaguely about driving a coach and six up a good old flight of stairs, or through a bad young act of Parliament; but I mean to say you might have got a hearse up that staircase, and taken it broadwise, with the splinter-bar towards the wall, and the door towards the balustrades: and' metadata={'source': 'docs/charles-dickens_a-christmas-carol.epub'}\n"
     ]
    }
   ],
   "source": [
    "# TODO Examine chunk\n",
    "print(len(chunks))\n",
    "print(chunks[100])"
   ]
  },
  {
   "cell_type": "markdown",
   "metadata": {},
   "source": [
    "# Create embeddings"
   ]
  },
  {
   "cell_type": "code",
   "execution_count": 7,
   "metadata": {},
   "outputs": [],
   "source": [
    "# TODO: Create embedding model\n",
    "embed_model_name = \"BAAI/bge-small-en-v1.5\"\n",
    "#embed_model_name = \"all-MiniLM-L6-v2\"\n",
    "\n",
    "embed_func = embedding_functions.SentenceTransformerEmbeddingFunction(model_name=embed_model_name)\n"
   ]
  },
  {
   "cell_type": "code",
   "execution_count": 16,
   "metadata": {},
   "outputs": [
    {
     "name": "stdout",
     "output_type": "stream",
     "text": [
      "2\n",
      "384\n",
      "384\n",
      "[-0.01406609 -0.05661467  0.07830305 -0.04875449  0.00596363 -0.01706757\n",
      "  0.08130031 -0.0210314  -0.01871066 -0.01363143 -0.02491988  0.04526637\n",
      " -0.02644806  0.00555288  0.05561635  0.03250337  0.06175813  0.01218211\n",
      " -0.0480439  -0.02590557 -0.05691833  0.03213967 -0.03054944  0.00851408\n",
      " -0.02802141  0.01222622  0.05819888 -0.02450805 -0.06763179 -0.02908871\n",
      "  0.03240736 -0.05694105 -0.01163537 -0.09179083  0.00310931  0.03893713\n",
      " -0.03298819  0.04430678  0.02069351 -0.02949887  0.07331575 -0.01143006\n",
      " -0.05255749 -0.03126996  0.02452269  0.00557517  0.0615153   0.01905978\n",
      " -0.03911695 -0.02892844 -0.10031246 -0.03796116 -0.01743324 -0.03871292\n",
      "  0.02596189  0.02467587  0.1008152   0.02152361  0.0202664   0.07833607\n",
      " -0.04237329 -0.02769306 -0.07793275 -0.05570993  0.04013534 -0.03672814\n",
      " -0.05398371  0.00429994 -0.0053317   0.04662592  0.01837179 -0.07751473\n",
      " -0.02993473  0.00075232 -0.02814893 -0.05050031 -0.01127363  0.05091122\n",
      " -0.02370237  0.04509485  0.02788643 -0.07675306 -0.03579909  0.01966518\n",
      " -0.00503291 -0.03753484  0.06293835  0.00839441 -0.03365982 -0.00724199\n",
      "  0.00517467  0.00879602  0.005277    0.05681691  0.05627004 -0.07552989\n",
      " -0.02267411  0.02341051 -0.00678183  0.23779336 -0.03186956  0.02271404\n",
      "  0.11691381  0.04876373 -0.00422434 -0.02250172 -0.01010973  0.00128941\n",
      "  0.02916801 -0.01583337  0.02898704  0.03259591 -0.00135936  0.01328576\n",
      "  0.03519967  0.051549   -0.02311051  0.00411243 -0.10181136  0.02885946\n",
      " -0.0153724  -0.02023743 -0.01117468 -0.04741937 -0.06466176  0.02487355\n",
      "  0.06048727  0.06848574  0.07090043  0.01142982 -0.02686149 -0.09367736\n",
      "  0.01310036 -0.00041223  0.04022994  0.00591031  0.01985552 -0.01075642\n",
      "  0.08431921 -0.05604963 -0.06888982 -0.09808866 -0.04612591  0.01148771\n",
      "  0.02532052  0.03771858  0.02203263  0.00800321  0.04975852  0.00905689\n",
      "  0.00735432 -0.04523765  0.02944417 -0.06319106  0.0479685  -0.11100721\n",
      "  0.05280494  0.08851092  0.05752732 -0.00879451  0.04331696  0.00432003\n",
      " -0.01179589  0.01947337  0.09961968 -0.09341279 -0.06554065 -0.00741561\n",
      " -0.00476295 -0.00077788  0.03933327  0.00596962 -0.01239546  0.07514472\n",
      " -0.01909438  0.01688305 -0.03167607 -0.0213566   0.01790204 -0.00372675\n",
      "  0.05926215 -0.04058573 -0.07731449  0.06063224  0.02348171  0.00811533\n",
      "  0.02539014 -0.01576692 -0.01330382  0.04735013  0.02462396  0.05588881\n",
      " -0.06242999 -0.01830704 -0.06441759 -0.01930556 -0.03186496  0.00685502\n",
      " -0.07011165 -0.07104684 -0.0924421  -0.00661825 -0.0804893   0.06128786\n",
      " -0.00202385 -0.00473151 -0.04399259 -0.02417024  0.05727793 -0.06246895\n",
      " -0.00201861 -0.03002369  0.13758934  0.00793284 -0.01472052 -0.05435445\n",
      " -0.05107831 -0.04156632 -0.06005276 -0.03295915  0.03127784 -0.006121\n",
      "  0.0544808  -0.31230557 -0.02059948  0.03377051 -0.00467776  0.03143394\n",
      "  0.00115629 -0.02810204 -0.00540686  0.01877369 -0.00187492  0.07774061\n",
      " -0.05957434  0.01803314  0.09279213  0.02358025  0.05254685 -0.05230306\n",
      "  0.05927716 -0.07233834  0.06941748  0.00095198  0.0796112  -0.02083125\n",
      " -0.09013794 -0.00875496 -0.00181222  0.17276485  0.03406886  0.04750457\n",
      " -0.03201807  0.08559795 -0.02685078  0.02953062  0.00241459  0.05890789\n",
      "  0.00612582  0.0920575   0.07237384  0.03553877 -0.09061454 -0.04702673\n",
      "  0.05479153 -0.02183967 -0.04275901 -0.04821156 -0.01658502 -0.07559118\n",
      "  0.00300044  0.03134597  0.0571686   0.05607542  0.04229769 -0.00169822\n",
      "  0.02316893  0.03237104 -0.05988863 -0.0378259   0.04834462 -0.0016883\n",
      "  0.03100985 -0.05675146  0.0570792   0.03143173 -0.05723967 -0.02238053\n",
      "  0.04656557 -0.02936744 -0.01028561 -0.01358365  0.00513082 -0.05359592\n",
      "  0.09657071 -0.03215262 -0.07617772  0.00899928  0.04180576 -0.01667309\n",
      "  0.08590976 -0.03358286 -0.01385821 -0.03220592 -0.03949272 -0.03846809\n",
      " -0.01444024 -0.01795346 -0.04181591 -0.12280051 -0.00474335  0.02418534\n",
      " -0.03663334 -0.00471029 -0.01677116 -0.02401251  0.04039859  0.02335019\n",
      "  0.02886388 -0.2168114   0.00826864  0.04908882 -0.00140045  0.01212252\n",
      "  0.00935962  0.00825902  0.03833613  0.03284233  0.00292031  0.02832783\n",
      " -0.02476524 -0.03526461 -0.03079652  0.04552139 -0.03673268  0.06965218\n",
      "  0.03479307  0.02959096 -0.04383089 -0.00589043  0.06157824  0.11269969\n",
      "  0.00078141  0.09182916 -0.04274313 -0.01350483 -0.01985022 -0.02850581\n",
      " -0.05215437 -0.01105189 -0.06864035  0.01296057 -0.03575938  0.01607781\n",
      " -0.03338207 -0.01078313 -0.03589921 -0.02849002 -0.01608379  0.01818291\n",
      "  0.05603266 -0.0433765  -0.03860406  0.06553848  0.02190488  0.03288727\n",
      "  0.01961278  0.03441373  0.02523405  0.02317755  0.04176648  0.05705142\n",
      "  0.02699428  0.06200766  0.05137254 -0.03203711 -0.00827996  0.0502583\n",
      "  0.01004386 -0.04818921 -0.01237263  0.08750041 -0.01558085  0.02462419]\n"
     ]
    }
   ],
   "source": [
    "# TODO: Explore embedding model\n",
    "text = 'hello, world'\n",
    "vec = embed_func([ text, chunks[100].page_content ])\n",
    "\n",
    "print(len(vec))\n",
    "print(len(vec[0]))\n",
    "print(len(vec[1]))\n",
    "print(vec[1])\n"
   ]
  },
  {
   "cell_type": "code",
   "execution_count": null,
   "metadata": {},
   "outputs": [
    {
     "name": "stdout",
     "output_type": "stream",
     "text": [
      "744\n",
      "['2ea84307', '244480ee', '13449d75', 'd8f422a4', 'bde58654', 'ae491370', '0b0c404c', 'ead66caa', 'a9e82b47', '9d4f164b', 'f6df14eb', '65ff7bc5', '5f838865', '675e9e89', '5d4bbc82', '77c48d97', '06e2b7a6', '45d2055a', '0b14f976', '69ff95a4', '547d0dab', '53ef472a', 'fc2057a5', 'ab6abdd4', 'c9aa4c6f', '7f38fa6b', 'c68b3f48', '9884fad9', '2c217c3e', '643f8e0d', '63fd5cbf', 'ba4f42a3', '71e6e3fa', 'a0be20f2', 'e222765c', '5f0877b2', '91f58589', 'a83c41a9', 'bf2478c8', '863da780', '304912f2', '140c82aa', '0d548ce5', 'c9ebf769', '5ad6c03e', '2a7e19b2', '0df24c0c', '2a98c601', 'b10f21d0', '058bec20', '04ca2d8a', '54bb286c', '27324029', 'ff6ea196', '5308b893', '70741075', '15bf4dfd', 'd1c0f896', 'cbac158a', '1172bcf3', 'b171dda2', '432fb930', 'fe8be2bd', '1c716c91', 'd1f53445', '6c04404e', '9de35d9a', '43f8e689', '68f58d62', 'ea63f45e', '4fc087bb', '5ddc174d', '3206963e', '77be50bd', '42d5ec71', '50e04e5a', '59865330', '11feb298', '77ff8349', '3b112ea3', '24005c14', 'c88d494d', 'ae5059dd', 'e8bd2c74', 'f7da68ef', '1c9a8314', '39a3374c', '4fe0e4a8', '37cb9962', 'da25cf45', '234fc8af', '86ff73c2', '1d249987', '9666dca7', '0de0c36b', '16bd4d09', '679e6232', '92794e49', '1cb06601', '59cffa25', '4d803dfa', '4be0438a', '05090fa5', 'eae2b031', 'd7ce6e92', 'e581c536', 'b5b7b9a2', '87518bcd', '94d8f18f', '026bb8b5', '26127e7d', '6733cb92', '8ca3eebd', '31adb1b3', 'b344d807', '5033ecee', '89a76d54', 'b67110b1', '9020c580', '17ff1b72', '871c0d27', '7533e8c8', '56b0d6ba', '7c283f49', '0f4e23f2', '5bc0ac26', '7ab76c8f', '0f7fa268', '99031f99', '3377d5b2', 'afd3a480', '53fc02bb', '6e414a2d', 'a576207c', '2d1dd808', '7c0e8b1e', '8cfffcd0', 'f936e36a', 'aa48ad29', 'a807def2', 'ceb81409', '76a945cf', 'b2af763d', '42898b30', '445f0743', 'c891df36', 'c80a6aba', '53718cb2', '5b6acea1', '179ec4e3', 'ec5ac432', 'c147ac67', '3748a64f', '197677e3', '5657006b', '8a85e234', '18629cc4', '0752edea', '6bc075e8', '2576d81d', '0574bb5d', 'd462da55', '2aed75a0', '67f38adf', 'aadc0565', 'c48243ea', 'e0bd3729', 'aee900af', '2a47c273', '8220ec76', '12ac98ac', '00607098', '55d83409', '44128fb8', '42e5b5b3', '78748e70', 'cf361948', 'dfd734ef', 'ca2805f0', '34dbdebe', 'b8263ec0', '78c556e4', '6ded3586', '4a7bfc08', 'dc5a2e7f', 'fd229d17', 'ed4a2a55', '46635092', '91a7a99a', '294e680c', '770b5a4e', '82ee5334', 'febea3f5', '6de9ef44', '823e023a', '985d9dfd', '79ab21eb', 'cb18c680', 'af715793', 'c666ffa8', 'a0c84805', '0f7a83ed', 'bf9cfa8a', 'd1eedaaf', 'cd9e12a4', 'e7efbb92', '0ff44376', 'ad5d2c97', '94ccb4e3', '2d0a503b', '611f7821', 'b1fb736b', 'c8a30e6e', '5d1235e5', '58e6d6e7', '3765a695', 'd938fabe', '47c637a2', '0910b010', '6173a423', 'e2b5acce', 'f0ea6fad', 'e9a8b3bb', '04db0422', 'c55d411e', '6eb5db11', 'fe948e78', '7a7502a4', 'cb1d0eff', '9e2d5070', 'e5316d7b', '152bd93a', 'c1483bba', 'e66b63af', '1880a2ea', '414415e1', 'fa9a323b', '1bdf6480', 'ddd335d4', '06c53eb0', '0bdb8a14', 'c8aa537e', 'b668a8db', '58096ffe', '107d2521', '12ca1544', '85d781c8', '3e94c768', '8627be7c', '6b890fc0', 'e8488824', 'f272511f', 'f8370458', 'd2261205', 'd0077251', '8faba6ca', '52dd6980', '5fc0cb44', 'c3c7dd39', '94654197', 'fc4aa355', 'd5775d02', 'd49a4b8a', '235bd09c', '6dd3fd59', '0b954e67', '1ac70f00', 'b0aa37a0', 'a3e32b36', '10fdf613', 'f9dde9fc', '2b9316ec', 'd72e2358', 'fbd2ee9f', 'e28b86c8', '3eff96a0', 'fddd15f3', '964efd36', 'f8cf1ccb', '49e30f9e', '6c76a422', 'effab2dc', '5c0af374', 'cedba571', 'd8327b92', '13a9e552', 'e813b75b', '9f6e4d91', 'fddcaa24', '21660481', '74a2ea11', '37f3f3ad', '7b26d017', 'b4f0f093', 'c49e5b81', 'ef9d0e7b', '98a199f6', 'eca392d4', 'ea43d475', '4c9d41f0', '16710e68', '4f652948', 'c84be73f', 'a28499a8', '21520f64', 'a13b971c', '404ef87a', 'ec5dcd76', '599e385a', 'c0ae3c28', 'b4afb3e9', '721f0eb6', '0d6d979e', 'e92d78ab', '74075f28', '2aa5fc4c', '07156549', '99b774da', 'fccd4b99', 'f7dcecaf', 'ca0b77ec', '39b2fce8', '692c93a6', 'ae1e8eb3', '2683cf30', 'd193dfc4', '6e69c033', 'a27c2263', 'f0f881c1', '63477c8e', '09859f59', 'f666d757', '211e0be5', '970463b2', 'ca0e8562', 'a7faa1d9', 'fda24a5c', 'b8bcdefb', 'b6b89aa6', 'be763df6', '370c54d7', '214f5cdd', 'd17cba12', 'd4fd429e', '6e1c3d6d', '752507ef', '9f9dead1', '2c93c5dc', '79bda5bf', 'c981ac02', '8add7e58', '4722e905', 'ebae01f3', '784c80ab', '98283ba5', '6e5df855', '2f85c4f5', 'f9344421', '216c7051', '2aee4924', '4ed84441', 'b5dba4a9', '4e16d75f', '297bc26b', 'dfb32804', 'f33e5adc', 'c7849276', '136506a7', 'ef67901f', '1db7777e', 'd85b3d3f', '849114e0', '51812707', '89a581fb', '43052a05', '5ff27df8', '8cf243a3', '5509025c', 'b4da28f1', '1271ee1e', '449f601b', '211af23d', 'd0ea6ce1', '05179962', '83c79227', 'b7dcfb6e', '8aee5bfb', '5d96c592', '91b077b3', 'b9e31519', 'd8767420', 'd85f0a53', '0e8a1b76', '65cbba6a', 'e87b265b', '040406e0', '50b33894', 'dd098abe', '75fd23a0', 'd0b11ac6', '8be47f17', '2457e9cd', '499ed699', '5875cdce', 'd88729e5', 'a81ee39e', 'ed7957ea', '11252ee5', '8ac80787', '4dbbbe2f', 'e00290a6', '0f6c819c', '8dbd2637', '2c7dc23c', 'ce9ca6b2', 'c6932da0', '5b124e33', '4253e246', '80478c55', 'df9cca62', 'e6d4e46f', '3209d753', 'c351b90d', '86b811c9', 'd7b5a3f0', 'a0fb47dc', 'bfc76c11', 'dc10a7c3', '40f7afd9', '4088a67f', 'e0fdb1f5', '0e3af7c7', '0bbfcac0', '2fe67155', 'e276ef4b', '17533c7c', '26101456', '933a08e6', '09c7f568', '1d5f102a', 'bc8c77ed', 'eb266946', 'd1126024', '1786ed8c', '2bb89a63', 'c2057852', '4b9da7b5', 'd7e4163d', 'ac87b16e', '8f779a81', '3193f2d7', 'c1b2452c', '9d3fd051', 'd58b7b43', 'f9c4fd9c', '10366e6a', '0e765db6', '73edd7f2', 'a1dc553d', '4dc45e60', 'ae57e405', '05992894', '52be77e4', '362c59e1', 'decf271f', '1b266020', 'cd63d6de', '330d97d2', 'a2ac9595', 'e2d9d468', '261d043d', 'c7c179cc', '0f613c58', '562b00da', 'fc5912a6', '18025b82', 'e26b5c7f', '8735030d', '46f0e5ff', 'b64dbe14', '930b0c45', 'c02e5e29', '92ac9a00', '74e85555', '78466297', '684f08ff', '7543ccad', '3beb2058', '344bb475', '51030376', '6915dd2d', '10fa744b', '29532b05', '013b0fb0', '9c137f34', 'a5ee1505', '96ca4895', '8701d664', '05d9a4b5', 'dd25653d', '1d989209', '6913f16c', 'ac1a71e0', 'e534ff90', 'dada8972', '44218330', 'bbf52502', 'f2f7ddf3', '7c2520dc', '621368b2', '442ce93b', '1ed0fd6e', 'ba4491b9', '1f89e4da', '19fff8f1', '68296e1a', '0a7f0343', '636df1bb', '00fa6a66', '78160e0f', '989bae5b', '779610ee', 'a0a9500b', '05ccf7ee', 'e4468db4', '3958be60', 'e20f2ed2', 'ff0b900f', '38c52e6b', 'baae2508', '7c734c6c', '51d0f155', 'a8ed4d7c', 'b37f37eb', 'ec91f848', '11b427b7', 'b0c98678', 'c929eba7', '01158ea1', '48c81a86', '6c48a8c6', '130bbf35', '717e8fc1', '1aee37e5', '917fa184', 'ed5db8e0', '29ded54d', 'b5169195', '552877bc', 'cf2369c3', '5de3208c', '9dfa06a0', '73345d86', 'a16b5e27', '7a820fed', 'e67e6de6', 'e18b2675', 'e0de97da', 'e5d66f6f', 'c6f4cbbc', '373513f2', 'e9d44f53', '5e9ba8c6', '88e7636d', 'a2858742', '405bac51', '3ddde8d1', '29f5d714', 'a8c0d807', 'd6a4ada4', 'fc9f89d0', 'b0e57443', '7828b109', 'dc45a1a6', 'cf4e738c', 'aaa3d2f4', '3099b334', '41f8e6f5', '5f3c0a16', '65804fd9', '9ee4a049', '67f1ccbf', '31cc6128', '26cb07c9', 'e1f64a0f', 'c6914eab', 'fe7029a0', '245e635d', '97b41467', '77774903', 'bf51a856', 'c1335987', '3509e50c', 'c3b32dc6', '7a17c2e5', 'b15e2ce6', '7e3f02ca', '8bcdef05', '64bedff9', '95325999', 'cdc8bfcc', 'd2a37429', 'cf9a8375', '379efb1e', '587adf68', '943e01ae', '66ad468d', '16560ed9', '33a875d7', '44d1e87d', '02337965', '0e01a0bf', '5b493a17', 'd6b46b14', '4d25ccef', 'da4983c3', '3a72537a', 'bcce23ec', 'ac265932', '5bfe40a6', 'cdec00d1', '443dbfcb', '952651a3', 'ce70ee69', '2fd75f77', '41deff14', 'fa779e8c', 'cc9cc821', 'dc7e011d', '3c1926fd', '53e9ac9a', '48998be1', '14f4133e', '827fb7e6', '03e87b8b', '0e3983f1', '97d8f129', 'b1ba0d93', '06568e22', 'cce3c05d', '0ba068f3', '2cb2b21a', '7c5248b0', 'f8e2c7df', '3563e35e', '5a17099f', '1bd46d31', 'f64d2eb9', '2e47b2b8', '277f6766', 'ac4dacb9', 'fd80bf10', '8de89878', 'e94d359b', 'bce52ffe', '029cd9a6', '39d5df5c', '01797f42', '7a9bb379', 'c404a253', '6110f52c', '49b9ecee', 'f8bb1af8', '95f4d611', '05940886', '29b1b83c', 'ac06f638', '69111574', '72ca77eb', '8d838c98', 'c778641f', '85578dba', 'dfe1e289', '23e8eea3', '83ed8439', '44c4e406', '96344109', 'e546ed81', '5a88eab7', '062b8cc1', 'bfcd90a6', '3d915bdb', '0a2b50e3', '1618a040', 'ed319a60', '104a9867', 'aa52cb6e', '2c0452c7', 'ce7c289c', 'a73d7457', '8f1babb7', 'f0cc7831', '9a2c7511', 'd95604fc', '9a60bf46', '4fe5c539', '465c7609', 'fa0bd2c5', '0ddc1465', '326576bc', 'e5de80c2', 'aa7c2627', '9f64e5aa', '9389b852', '82b5d575', '2a10244e', '007bc093', 'ab51899c', '2c292511', 'ad1eef82', 'ce3698ce', '98902e97', 'f96a43fa', 'ed1616f9', 'd8be09fb', 'e5b61c70', 'aaaf873c', '51b0339a', '206cd2cf', '348f3633', '9bb81968', '9cbcfcbc', 'e13cc43a', '5da0e5e5', 'f11113b3', 'ec839a84', 'b1769e2e', '557723b1', '95ce5179', 'cc2e9796', '3423ed8c', '19216d71', '08a5121f', 'f34c4168', 'd520449d', '1b0a487a', '84437381', '8e75da5e', '09c97b1f', '6f474e43', 'b8a0bb47', 'e2d847ba', 'e80123c0', '7c81525b']\n"
     ]
    }
   ],
   "source": [
    "# TODO: Prepare the chunks for inserting into Chroma\n",
    "# extract page_content from the chunks into an array\n",
    "texts = [ d.page_content for d in chunks ]\n",
    "print(len(texts))\n",
    "\n",
    "# for every text, generate a unique id for the text\n",
    "ids = [ str(uuid4())[:8] for _ in range(len(texts)) ]\n",
    "print(ids)\n",
    "   \n"
   ]
  },
  {
   "cell_type": "code",
   "execution_count": 19,
   "metadata": {},
   "outputs": [],
   "source": [
    "# TODO: Create ephemeral Chroma client and save chunks\n",
    "col_name = 'epub'\n",
    "embed_func = embedding_functions.SentenceTransformerEmbeddingFunction(model_name=embed_model_name)\n",
    "\n",
    "# create the chroma client\n",
    "ch_client = chromadb.Client()\n",
    "try:\n",
    "   ch_client.delete_collection(col_name)\n",
    "except:\n",
    "   pass\n",
    "\n",
    "# create the collection\n",
    "epub_col = ch_client.create_collection(name=col_name, embedding_function=embed_func)\n"
   ]
  },
  {
   "cell_type": "code",
   "execution_count": null,
   "metadata": {},
   "outputs": [
    {
     "name": "stdout",
     "output_type": "stream",
     "text": [
      "0\n"
     ]
    }
   ],
   "source": [
    "# display the number of documents in the collection \n",
    "print(epub_col.count())"
   ]
  },
  {
   "cell_type": "code",
   "execution_count": 21,
   "metadata": {},
   "outputs": [],
   "source": [
    "# Add text into collection \n",
    "epub_col.add(documents=texts, ids=ids)"
   ]
  },
  {
   "cell_type": "code",
   "execution_count": 22,
   "metadata": {},
   "outputs": [
    {
     "name": "stdout",
     "output_type": "stream",
     "text": [
      "after inserting:  744\n"
     ]
    }
   ],
   "source": [
    "# TODO: Print number of documents in collection \n",
    "print('after inserting: ', epub_col.count())"
   ]
  },
  {
   "cell_type": "code",
   "execution_count": null,
   "metadata": {},
   "outputs": [
    {
     "name": "stdout",
     "output_type": "stream",
     "text": [
      "{'ids': [['7c283f49', '9d4f164b', 'f6df14eb', '0f4e23f2', '15bf4dfd']], 'embeddings': None, 'documents': [['“How now!” said Scrooge, caustic and cold as ever. “What do you want with me?”\\n\\n“Much!”\\ufeff—Marley’s voice; no doubt about it.\\n\\n“Who are you?”\\n\\n“Ask me who I was.”', 'Marley was dead, to begin with. There is no doubt whatever about that. The register of his burial was signed by the clergyman, the clerk, the undertaker, and the chief mourner. Scrooge signed it. And Scrooge’s name was good upon ’Change for anything he chose to put his hand to. Old Marley was as', 'hand to. Old Marley was as dead as a doornail.', '“Ask me who I was.”\\n\\n“Who were you, then?” said Scrooge, raising his voice. “You’re particular, for a shade.” He was going to say “to a shade,” but substituted this, as more appropriate.\\n\\n“In life I was your partner, Jacob Marley.”', '“Scrooge and Marley’s, I believe,” said one of the gentlemen, referring to his list. “Have I the pleasure of addressing Mr. Scrooge, or Mr. Marley?”\\n\\n“Mr. Marley has been dead these seven years,” Scrooge replied. “He died seven years ago, this very night.”']], 'uris': None, 'included': ['metadatas', 'documents', 'distances'], 'data': None, 'metadatas': [[None, None, None, None, None]], 'distances': [[0.5480099320411682, 0.6515917181968689, 0.6743592023849487, 0.6796368360519409, 0.7019739151000977]]}\n",
      "[['“How now!” said Scrooge, caustic and cold as ever. “What do you want with me?”\\n\\n“Much!”\\ufeff—Marley’s voice; no doubt about it.\\n\\n“Who are you?”\\n\\n“Ask me who I was.”', 'Marley was dead, to begin with. There is no doubt whatever about that. The register of his burial was signed by the clergyman, the clerk, the undertaker, and the chief mourner. Scrooge signed it. And Scrooge’s name was good upon ’Change for anything he chose to put his hand to. Old Marley was as', 'hand to. Old Marley was as dead as a doornail.', '“Ask me who I was.”\\n\\n“Who were you, then?” said Scrooge, raising his voice. “You’re particular, for a shade.” He was going to say “to a shade,” but substituted this, as more appropriate.\\n\\n“In life I was your partner, Jacob Marley.”', '“Scrooge and Marley’s, I believe,” said one of the gentlemen, referring to his list. “Have I the pleasure of addressing Mr. Scrooge, or Mr. Marley?”\\n\\n“Mr. Marley has been dead these seven years,” Scrooge replied. “He died seven years ago, this very night.”']]\n",
      "1\n"
     ]
    }
   ],
   "source": [
    "# TODO: Query collection \n",
    "query = 'Who is Marley'\n",
    "results = epub_col.query(\n",
    "   query_texts=[ query ],\n",
    "   n_results=5,\n",
    ")\n",
    "\n",
    "print(results)\n",
    "print(results['documents'])\n",
    "print(len(results['documents']))"
   ]
  },
  {
   "cell_type": "code",
   "execution_count": 31,
   "metadata": {},
   "outputs": [
    {
     "name": "stdout",
     "output_type": "stream",
     "text": [
      "{'ids': ['7c283f49'], 'embeddings': None, 'documents': ['“How now!” said Scrooge, caustic and cold as ever. “What do you want with me?”\\n\\n“Much!”\\ufeff—Marley’s voice; no doubt about it.\\n\\n“Who are you?”\\n\\n“Ask me who I was.”'], 'uris': None, 'included': ['metadatas', 'documents'], 'data': None, 'metadatas': [None]}\n"
     ]
    }
   ],
   "source": [
    "# Get doc by id\n",
    "result = epub_col.get(ids='7c283f49')\n",
    "print(result)"
   ]
  },
  {
   "cell_type": "markdown",
   "metadata": {},
   "source": [
    "# Question and Answer\n",
    "Implement a question and answer LLM with the vector database. You can use the Question and Answer LLM from day 1's workshop.\n",
    "\n",
    "Do not worry about the accuracy of the result. Focus on implementing the solution. We will discuss the nuances of the solution at the end of the workshop"
   ]
  },
  {
   "cell_type": "code",
   "execution_count": null,
   "metadata": {},
   "outputs": [],
   "source": [
    "# TODO Your code "
   ]
  },
  {
   "cell_type": "code",
   "execution_count": null,
   "metadata": {},
   "outputs": [],
   "source": [
    "# TODO Your code"
   ]
  },
  {
   "cell_type": "code",
   "execution_count": null,
   "metadata": {},
   "outputs": [],
   "source": [
    "# TODO Your code"
   ]
  },
  {
   "cell_type": "markdown",
   "metadata": {},
   "source": [
    "# Discussion\n",
    "\n",
    "1. How does your solution perform?\n",
    "2. Where do you think are the issues?\n",
    "3. How can you improve it?"
   ]
  }
 ],
 "metadata": {
  "kernelspec": {
   "display_name": ".venv",
   "language": "python",
   "name": "python3"
  },
  "language_info": {
   "codemirror_mode": {
    "name": "ipython",
    "version": 3
   },
   "file_extension": ".py",
   "mimetype": "text/x-python",
   "name": "python",
   "nbconvert_exporter": "python",
   "pygments_lexer": "ipython3",
   "version": "3.12.3"
  }
 },
 "nbformat": 4,
 "nbformat_minor": 2
}
