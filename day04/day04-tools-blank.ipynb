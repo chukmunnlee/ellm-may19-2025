{
 "cells": [
  {
   "cell_type": "markdown",
   "metadata": {},
   "source": [
    "# Tools\n",
    "\n",
    "This notebook contains all the tools that will be used by the agent."
   ]
  },
  {
   "cell_type": "code",
   "execution_count": 29,
   "metadata": {},
   "outputs": [],
   "source": [
    "import requests\n",
    "import sqlite3\n",
    "import pandas as pd\n",
    "\n",
    "from smolagents import tool, Tool\n",
    "\n",
    "from langchain_community.tools.ddg_search.tool import DuckDuckGoSearchRun"
   ]
  },
  {
   "cell_type": "markdown",
   "metadata": {},
   "source": [
    "## Creating simple tool\n",
    "\n",
    "A Python function must be annotated with `@tool`. It should also have a docstring describing what does the function do, what does it return and the description of its parameters."
   ]
  },
  {
   "cell_type": "markdown",
   "metadata": {},
   "source": [
    "### City to location \n",
    "\n",
    "The following function look up at latitude and longitude of a city."
   ]
  },
  {
   "cell_type": "code",
   "execution_count": 6,
   "metadata": {},
   "outputs": [
    {
     "data": {
      "text/html": [
       "<div>\n",
       "<style scoped>\n",
       "    .dataframe tbody tr th:only-of-type {\n",
       "        vertical-align: middle;\n",
       "    }\n",
       "\n",
       "    .dataframe tbody tr th {\n",
       "        vertical-align: top;\n",
       "    }\n",
       "\n",
       "    .dataframe thead th {\n",
       "        text-align: right;\n",
       "    }\n",
       "</style>\n",
       "<table border=\"1\" class=\"dataframe\">\n",
       "  <thead>\n",
       "    <tr style=\"text-align: right;\">\n",
       "      <th></th>\n",
       "      <th>id</th>\n",
       "      <th>city</th>\n",
       "      <th>latitude</th>\n",
       "      <th>longitude</th>\n",
       "      <th>altitude</th>\n",
       "    </tr>\n",
       "  </thead>\n",
       "  <tbody>\n",
       "    <tr>\n",
       "      <th>0</th>\n",
       "      <td>2</td>\n",
       "      <td>Kandahar</td>\n",
       "      <td>31.610000</td>\n",
       "      <td>65.699997</td>\n",
       "      <td>1015</td>\n",
       "    </tr>\n",
       "    <tr>\n",
       "      <th>1</th>\n",
       "      <td>3</td>\n",
       "      <td>Mazar-e Sharif</td>\n",
       "      <td>36.706944</td>\n",
       "      <td>67.112221</td>\n",
       "      <td>369</td>\n",
       "    </tr>\n",
       "    <tr>\n",
       "      <th>2</th>\n",
       "      <td>4</td>\n",
       "      <td>Herat</td>\n",
       "      <td>34.340000</td>\n",
       "      <td>62.189999</td>\n",
       "      <td>927</td>\n",
       "    </tr>\n",
       "    <tr>\n",
       "      <th>3</th>\n",
       "      <td>5</td>\n",
       "      <td>Jalalabad</td>\n",
       "      <td>34.420000</td>\n",
       "      <td>70.449997</td>\n",
       "      <td>573</td>\n",
       "    </tr>\n",
       "    <tr>\n",
       "      <th>4</th>\n",
       "      <td>6</td>\n",
       "      <td>Konduz</td>\n",
       "      <td>36.720000</td>\n",
       "      <td>68.860001</td>\n",
       "      <td>394</td>\n",
       "    </tr>\n",
       "  </tbody>\n",
       "</table>\n",
       "</div>"
      ],
      "text/plain": [
       "   id            city   latitude  longitude  altitude\n",
       "0   2        Kandahar  31.610000  65.699997      1015\n",
       "1   3  Mazar-e Sharif  36.706944  67.112221       369\n",
       "2   4           Herat  34.340000  62.189999       927\n",
       "3   5       Jalalabad  34.420000  70.449997       573\n",
       "4   6          Konduz  36.720000  68.860001       394"
      ]
     },
     "execution_count": 6,
     "metadata": {},
     "output_type": "execute_result"
    }
   ],
   "source": [
    "# TODO: Load CSV file containing latitude, longitude and altitude of cities\n",
    "# https://github.com/bahar/WorldCityLocations/tree/master\n",
    "df = pd.read_csv('data/cities_latlng.csv', sep=';')\n",
    "df.head()\n",
    "df.columns = ['id', 'country', 'city', 'latitude', 'longitude', 'altitude']\n",
    "df.drop('country', axis=1, inplace=True)\n",
    "df.head()"
   ]
  },
  {
   "cell_type": "code",
   "execution_count": 7,
   "metadata": {},
   "outputs": [
    {
     "data": {
      "text/html": [
       "<div>\n",
       "<style scoped>\n",
       "    .dataframe tbody tr th:only-of-type {\n",
       "        vertical-align: middle;\n",
       "    }\n",
       "\n",
       "    .dataframe tbody tr th {\n",
       "        vertical-align: top;\n",
       "    }\n",
       "\n",
       "    .dataframe thead th {\n",
       "        text-align: right;\n",
       "    }\n",
       "</style>\n",
       "<table border=\"1\" class=\"dataframe\">\n",
       "  <thead>\n",
       "    <tr style=\"text-align: right;\">\n",
       "      <th></th>\n",
       "      <th>id</th>\n",
       "      <th>city</th>\n",
       "      <th>latitude</th>\n",
       "      <th>longitude</th>\n",
       "      <th>altitude</th>\n",
       "    </tr>\n",
       "  </thead>\n",
       "  <tbody>\n",
       "    <tr>\n",
       "      <th>10566</th>\n",
       "      <td>10568</td>\n",
       "      <td>Singapore</td>\n",
       "      <td>1.29027</td>\n",
       "      <td>103.851959</td>\n",
       "      <td>164</td>\n",
       "    </tr>\n",
       "  </tbody>\n",
       "</table>\n",
       "</div>"
      ],
      "text/plain": [
       "          id       city  latitude   longitude  altitude\n",
       "10566  10568  Singapore   1.29027  103.851959       164"
      ]
     },
     "execution_count": 7,
     "metadata": {},
     "output_type": "execute_result"
    }
   ],
   "source": [
    "# TODO: Explore the loaded dataframe\n",
    "df[df['city'] == 'Singapore']"
   ]
  },
  {
   "cell_type": "code",
   "execution_count": 24,
   "metadata": {},
   "outputs": [],
   "source": [
    "# TODO: Add tool description\n",
    "\n",
    "@tool\n",
    "def get_latlng(city: str) -> any:\n",
    "   \"\"\"\n",
    "   Return the latitude, longitude and altitude of a city in dictionary \n",
    "\n",
    "   Args:\n",
    "      city: the of of the city that you want the latitude, longitude and altitude\n",
    "\n",
    "   Returns:\n",
    "      any: a dictionary with the following keys: city, latitude, longitude, altitude\n",
    "\n",
    "   Example:\n",
    "      result = get_latlng('singapore')\n",
    "   \"\"\"\n",
    "   r = df.query(f\"city.str.lower() == '{city.lower()}'\")\n",
    "   return { 'city': city, 'latitude': r.iloc[0]['latitude'], 'longitude': r.iloc[0]['longitude'], 'altitude': r.iloc[0]['altitude'] }"
   ]
  },
  {
   "cell_type": "code",
   "execution_count": 22,
   "metadata": {},
   "outputs": [
    {
     "data": {
      "text/plain": [
       "{'city': 'tokyo',\n",
       " 'latitude': np.float64(35.6895266),\n",
       " 'longitude': np.float64(139.6916809),\n",
       " 'altitude': np.int64(40)}"
      ]
     },
     "execution_count": 22,
     "metadata": {},
     "output_type": "execute_result"
    }
   ],
   "source": [
    "# TODO: Test get_latlng method\n",
    "# case insensitive search\n",
    "get_latlng('tokyo')"
   ]
  },
  {
   "cell_type": "markdown",
   "metadata": {},
   "source": [
    "### Temperature at latitude and longitude\n",
    "\n",
    "The following function lookup the weather at the given latitude and longtude."
   ]
  },
  {
   "cell_type": "code",
   "execution_count": 25,
   "metadata": {},
   "outputs": [],
   "source": [
    "# TODO: Add tool description\n",
    "\n",
    "@tool\n",
    "def get_temperature(latitude: float, longitude: float) -> any:\n",
    "   \"\"\" \n",
    "   Get the temperature of a location given by its latitude and longitude\n",
    "\n",
    "   Args:\n",
    "      latitude: latitude as float\n",
    "      longitude: longitude as float\n",
    "\n",
    "   Returns:\n",
    "      any: a dictionary with the following keys: temperature_unit, temperature\n",
    "\n",
    "   Example:\n",
    "      result = get_temperature(35.6895266, 139.6916809)\n",
    "\n",
    "   \"\"\"\n",
    "   url = f\"https://api.open-meteo.com/v1/forecast?latitude={latitude}&longitude={longitude}&current=temperature_2m\"\n",
    "   resp = requests.get(url)\n",
    "   j = resp.json()\n",
    "   if resp.status_code >= 400:\n",
    "      raise Exception(j['reason'])\n",
    "   temperature = j['current']['temperature_2m']\n",
    "   units = j['current_units']['temperature_2m']\n",
    "   return { \"temperature_unit\": units, \"temperature\": temperature }"
   ]
  },
  {
   "cell_type": "code",
   "execution_count": 23,
   "metadata": {},
   "outputs": [
    {
     "data": {
      "text/plain": [
       "{'temperature_unit': '°C', 'temperature': 26.0}"
      ]
     },
     "execution_count": 23,
     "metadata": {},
     "output_type": "execute_result"
    }
   ],
   "source": [
    "# TODO: Test get_temperature method\n",
    "get_temperature(35.6895266, 139.6916809)"
   ]
  },
  {
   "cell_type": "code",
   "execution_count": 27,
   "metadata": {},
   "outputs": [],
   "source": [
    "# TODO: Create a web search tool\n",
    "\n",
    "def web_search(query: str) -> any:\n",
    "\n",
    "   search = DuckDuckGoSearchRun()\n",
    "   return search.invoke(query)"
   ]
  },
  {
   "cell_type": "code",
   "execution_count": 31,
   "metadata": {},
   "outputs": [
    {
     "name": "stdout",
     "output_type": "stream",
     "text": [
      "Collecting duckduckgo_search\n",
      "  Downloading duckduckgo_search-8.0.2-py3-none-any.whl.metadata (16 kB)\n",
      "Requirement already satisfied: click>=8.1.8 in /opt/tmp/ellm-may19-2025/.venv/lib/python3.12/site-packages (from duckduckgo_search) (8.2.0)\n",
      "Collecting primp>=0.15.0 (from duckduckgo_search)\n",
      "  Downloading primp-0.15.0-cp38-abi3-manylinux_2_17_x86_64.manylinux2014_x86_64.whl.metadata (13 kB)\n",
      "Requirement already satisfied: lxml>=5.3.0 in /opt/tmp/ellm-may19-2025/.venv/lib/python3.12/site-packages (from duckduckgo_search) (5.4.0)\n",
      "Downloading duckduckgo_search-8.0.2-py3-none-any.whl (18 kB)\n",
      "Downloading primp-0.15.0-cp38-abi3-manylinux_2_17_x86_64.manylinux2014_x86_64.whl (3.3 MB)\n",
      "\u001b[2K   \u001b[38;2;114;156;31m━━━━━━━━━━━━━━━━━━━━━━━━━━━━━━━━━━━━━━━━\u001b[0m \u001b[32m3.3/3.3 MB\u001b[0m \u001b[31m11.3 MB/s\u001b[0m eta \u001b[36m0:00:00\u001b[0m31m12.1 MB/s\u001b[0m eta \u001b[36m0:00:01\u001b[0m\n",
      "\u001b[?25hInstalling collected packages: primp, duckduckgo_search\n",
      "\u001b[2K   \u001b[38;2;114;156;31m━━━━━━━━━━━━━━━━━━━━━━━━━━━━━━━━━━━━━━━━\u001b[0m \u001b[32m2/2\u001b[0m [duckduckgo_search]\n",
      "\u001b[1A\u001b[2KSuccessfully installed duckduckgo_search-8.0.2 primp-0.15.0\n",
      "Note: you may need to restart the kernel to use updated packages.\n"
     ]
    }
   ],
   "source": [
    "%pip install duckduckgo_search"
   ]
  },
  {
   "cell_type": "code",
   "execution_count": 32,
   "metadata": {},
   "outputs": [
    {
     "data": {
      "text/plain": [
       "\"Meet the stars of the live-action Star Wars series, from Cassian Andor himself, Diego Luna, to new faces and returning Rogue One favorites. Learn about their characters, the journey so far, and the excitement for the road ahead in Andor Season 2. Meet the actors and characters of Andor season 2, the Star Wars TV show that bridges Rogue One and A New Hope. Learn about Cassian Andor, Luthen Rael, Mon Mothma, Bix Caleen, and more. Many of the cast members from Season 1 return, including Adria Arjona as Andor's love interest Bix Caleen, Stellan Skarsgard as ruthless spymaster Luthen Rael, Genevieve O'Reilly as Senator ... Find out who will return and join the Rebel Alliance in Andor season 2, the Star Wars spin-off series on Disney+. Diego Luna, Stellan Skarsgard, Adria Arjona, Ben Mendelsohn, and more will reprise their roles from season 1 and Rogue One. Orson Krennic, the character played by Ben Mendelsohn was absent in Andor Season 1 but will be a part of season 2. He was cast for the same role in Rogue One, and season 2 marks his return to the franchise. Krennic is Project Stardust's director, and season 2 is likely to focus on his dynamic with the protagonist.\""
      ]
     },
     "execution_count": 32,
     "metadata": {},
     "output_type": "execute_result"
    }
   ],
   "source": [
    "# TODO: Test the web search\n",
    "web_search('Cast of Andor season 2')"
   ]
  },
  {
   "cell_type": "markdown",
   "metadata": {},
   "source": [
    "### Query relational database\n",
    "\n",
    "The following function queries a relational database (SQLite) view called `album_track`. The table's schema is as follows:\n",
    "| Field name  | Type          |\n",
    "|-------------|---------------| \n",
    "| AlbumId     | integer       |\n",
    "| Title       | nvarchar(160) |\n",
    "| track_name  | nvarchar(200) |\n",
    "| artist_name | nvarchar(120) |\n",
    "| duration    | integer       |\n",
    "| composer    | nvarchar(220) |\n"
   ]
  },
  {
   "cell_type": "code",
   "execution_count": null,
   "metadata": {},
   "outputs": [],
   "source": [
    "# TODO: Add tool description\n",
    "\n",
    "@tool\n",
    "def query_album_track(query: str) -> any:\n",
    "   \"\"\" \n",
    "   Perform SQL queries on the album_track table. Return the result as an array of records.\n",
    "   The table name is album_track and has the following columns:\n",
    "      AlbumId: integer\n",
    "      Title: nvarchar(160)\n",
    "      track_name: nvarchar(200)\n",
    "      artist_name: nvarchar(120)\n",
    "      duration: integer\n",
    "      composer: nvarchar(220)\n",
    "   The duration is in milliseconds.\n",
    "   Use this for query only. \n",
    "\n",
    "   Args:\n",
    "      query: a valid SQL query\n",
    "\n",
    "   Return\n",
    "      any: list of tuple. Each element corresponds to a record \n",
    "\n",
    "   Example:\n",
    "      results = query_album_track(\"select * from album_track where artist_name like '%michael%'\")\n",
    "   \"\"\"\n",
    "   database = \"data/chinook_sqlite.sqlite\" \n",
    "   conn = sqlite3.connect(database)\n",
    "   try:\n",
    "      cursor = conn.cursor() \n",
    "      rows = cursor.execute(query)\n",
    "      return rows.fetchall()\n",
    "   finally:\n",
    "      conn.close()"
   ]
  },
  {
   "cell_type": "code",
   "execution_count": 37,
   "metadata": {},
   "outputs": [
    {
     "data": {
      "text/plain": [
       "[(3503,)]"
      ]
     },
     "execution_count": 37,
     "metadata": {},
     "output_type": "execute_result"
    }
   ],
   "source": [
    "# TODO: Test the query_album_track function\n",
    "query_album_track('select count(*) from album_track')\n"
   ]
  },
  {
   "cell_type": "markdown",
   "metadata": {},
   "source": [
    "### Tools with states\n",
    "\n",
    "The following isn an example of a more complex tool that requires initialisation"
   ]
  },
  {
   "cell_type": "code",
   "execution_count": 40,
   "metadata": {},
   "outputs": [],
   "source": [
    "class SQLiteTool(Tool):\n",
    "\n",
    "   # what is the name of this tool\n",
    "   name = \"album track query\"\n",
    "\n",
    "   description = \"\"\" \n",
    "   Perform SQL queries on the album_track table. Return the result as an array of records.\n",
    "   The table name is album_track and has the following columns:\n",
    "      AlbumId: integer\n",
    "      Title: nvarchar(160)\n",
    "      track_name: nvarchar(200)\n",
    "      artist_name: nvarchar(120)\n",
    "      duration: integer\n",
    "      composer: nvarchar(220)\n",
    "   The duration is in milliseconds.\n",
    "   Use this for query only. \n",
    "   \"\"\"\n",
    "\n",
    "   # JSON schema - https://json-schema.org/\n",
    "   inputs = {\n",
    "      \"query\": {\n",
    "         \"type\": \"string\",\n",
    "         \"description\": \"A valid SQL query\"\n",
    "      }\n",
    "   }\n",
    "\n",
    "   output_type = \"list\"\n",
    "\n",
    "   def __init__(self, db_file):\n",
    "      self.db_file = db_file \n",
    "      self.setup()\n",
    "\n",
    "   def forward(self, query: str) -> list:\n",
    "      conn = sqlite3.connect(self.db_file)\n",
    "      try:\n",
    "         cursor = conn.cursor() \n",
    "         rows = cursor.execute(query)\n",
    "         return rows.fetchall()\n",
    "      finally:\n",
    "         conn.close()   "
   ]
  }
 ],
 "metadata": {
  "kernelspec": {
   "display_name": ".venv",
   "language": "python",
   "name": "python3"
  },
  "language_info": {
   "codemirror_mode": {
    "name": "ipython",
    "version": 3
   },
   "file_extension": ".py",
   "mimetype": "text/x-python",
   "name": "python",
   "nbconvert_exporter": "python",
   "pygments_lexer": "ipython3",
   "version": "3.12.3"
  }
 },
 "nbformat": 4,
 "nbformat_minor": 2
}
